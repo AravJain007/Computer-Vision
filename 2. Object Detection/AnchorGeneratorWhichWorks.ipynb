{
 "cells": [
  {
   "cell_type": "code",
   "execution_count": 465,
   "metadata": {},
   "outputs": [],
   "source": [
    "import torch\n",
    "import torchvision\n",
    "import torch.nn as nn"
   ]
  },
  {
   "cell_type": "code",
   "execution_count": 466,
   "metadata": {},
   "outputs": [],
   "source": [
    "def anchor_type(size = (4,8,16),ratio = (2,1,0.5)):\n",
    "    anchor_types = []\n",
    "    for i in size:\n",
    "        for j in ratio:\n",
    "            anchor_types.append((int(i),int(i*j)))\n",
    "    return anchor_types"
   ]
  },
  {
   "cell_type": "code",
   "execution_count": 467,
   "metadata": {},
   "outputs": [],
   "source": [
    "def anchorGen(feat_maps):\n",
    "    center_points = []\n",
    "    for feat_map in feat_maps:\n",
    "        cp=[]\n",
    "        for i in range(feat_map.shape[2]):\n",
    "            for j in range(feat_map.shape[2]):\n",
    "                cp.append((i,j))\n",
    "        center_points.append(cp)\n",
    "    return center_points"
   ]
  },
  {
   "cell_type": "code",
   "execution_count": 468,
   "metadata": {},
   "outputs": [],
   "source": [
    "def usable_anchors(feat_maps,size=(4,8,16),ratio=(2,1,0.5)):\n",
    "    anchor_types = anchor_type()\n",
    "    useful_anchors = []\n",
    "    x = y = feat_maps.shape[2]\n",
    "    for i in range(x):\n",
    "        for j in range(y):\n",
    "            flag = True\n",
    "            for k in anchor_types:\n",
    "                if((i - (k[0]/2)) < 0 or (j - (k[1]/2)) < 0 or (i + (k[0]/2)) > x or (j + (k[1]/2)) > y):\n",
    "                    flag = False\n",
    "                else:\n",
    "                    useful_anchors.append((i,j,k[0]/2,k[1]/2))\n",
    "    return useful_anchors"
   ]
  },
  {
   "cell_type": "code",
   "execution_count": 469,
   "metadata": {},
   "outputs": [],
   "source": [
    "def convert(anchors_to_be_converted):\n",
    "    converted_anchors = []\n",
    "    for i in anchors_to_be_converted:\n",
    "        xmax = (i[0] + i[2]/2)\n",
    "        ymax = (i[1] + i[3]/2)\n",
    "        xmin = (i[0] - i[2]/2)\n",
    "        ymin = (i[1] - i[3]/2)\n",
    "        converted_anchors.append((xmax,ymax,xmin,ymin))\n",
    "    return converted_anchors"
   ]
  },
  {
   "cell_type": "code",
   "execution_count": 470,
   "metadata": {},
   "outputs": [],
   "source": [
    "\n",
    "def iou_threshold(feat_maps, ground_truth, threshold = 0.49):\n",
    "    anchors = usable_anchors(feat_maps)\n",
    "    anchors = convert(anchors)\n",
    "    ground_truth = convert(ground_truth)\n",
    "    f_anchors=[]\n",
    "    finalized_anchors = []\n",
    "    scores=[]\n",
    "    for i in anchors:\n",
    "        for j in ground_truth:\n",
    "            area_intersection = (min(i[0],j[0])-max(i[2],j[2])) * (min(i[1],j[1])-max(i[3],j[3]))\n",
    "            area_box1 = (i[0]-i[2])*(i[1]-i[3])\n",
    "            area_box2 = (j[0]-j[2])*(j[1]-j[3])\n",
    "            iou = area_intersection/(area_box1+area_box2-area_intersection+1e-6)\n",
    "            if iou>threshold and iou<1 and area_intersection>0 and (min(i[0],j[0])-max(i[2],j[2]))>0:\n",
    "                f_anchors.append(i)\n",
    "                scores.append(iou)\n",
    "    return f_anchors,scores"
   ]
  }
 ],
 "metadata": {
  "kernelspec": {
   "display_name": "Python 3",
   "language": "python",
   "name": "python3"
  },
  "language_info": {
   "codemirror_mode": {
    "name": "ipython",
    "version": 3
   },
   "file_extension": ".py",
   "mimetype": "text/x-python",
   "name": "python",
   "nbconvert_exporter": "python",
   "pygments_lexer": "ipython3",
   "version": "3.9.11"
  },
  "orig_nbformat": 4
 },
 "nbformat": 4,
 "nbformat_minor": 2
}
