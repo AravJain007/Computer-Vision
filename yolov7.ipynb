{
 "cells": [
  {
   "cell_type": "code",
   "execution_count": 101,
   "metadata": {},
   "outputs": [],
   "source": [
    "import torch\n",
    "import torchvision\n",
    "import torch.nn as nn\n",
    "from torchsummary import summary\n",
    "import warnings\n",
    "from torch.nn.modules.utils import _pair\n",
    "import import_ipynb\n",
    "from AnchorGeneratorWhichWorks import iou_threshold"
   ]
  },
  {
   "cell_type": "code",
   "execution_count": 102,
   "metadata": {},
   "outputs": [],
   "source": [
    "class conv(nn.Module):\n",
    "    \n",
    "    def __init__(self, c, s):\n",
    "    \n",
    "        super().__init__()\n",
    "        \n",
    "        if s==1:\n",
    "            self.seq = nn.Sequential(nn.Conv2d(in_channels=c,out_channels=c,stride=s,padding=1,kernel_size=3),nn.BatchNorm2d(num_features=c),nn.SiLU())\n",
    "        if s==2:\n",
    "            self.seq = nn.Sequential(nn.Conv2d(in_channels=c,out_channels=2*c,stride=s,padding=1,kernel_size=3),nn.BatchNorm2d(num_features=2*c),nn.SiLU())\n",
    "    \n",
    "    def forward(self, x):\n",
    "        \n",
    "        x = self.seq(x)\n",
    "        \n",
    "        return x"
   ]
  },
  {
   "cell_type": "code",
   "execution_count": 103,
   "metadata": {},
   "outputs": [],
   "source": [
    "class MPconv(nn.Module):\n",
    "    \n",
    "    def __init__(self,c):\n",
    "        \n",
    "        super().__init__()\n",
    "        \n",
    "        self.maxpool = nn.MaxPool2d(kernel_size=2,stride=1)\n",
    "        self.conv1 = nn.Sequential(nn.Conv2d(in_channels=c,out_channels=2*c,stride=2,kernel_size=1),nn.BatchNorm2d(num_features=2*c),nn.SiLU())\n",
    "        self.conv2 = conv(c,2)\n",
    "        self.conv3 = nn.Sequential(nn.Conv2d(in_channels=c,out_channels=c,stride=1,kernel_size=1),nn.BatchNorm2d(num_features=c),nn.SiLU())\n",
    "        self.conv4 = nn.Sequential(nn.Conv2d(in_channels=4*c,out_channels=2*c,stride=1,kernel_size=1),nn.BatchNorm2d(num_features=2*c),nn.SiLU())\n",
    "        \n",
    "    def forward(self,x):\n",
    "        \n",
    "        xa = self.maxpool(x)\n",
    "        xa = self.conv1(xa)\n",
    "        \n",
    "        xb = self.conv3(x)\n",
    "        xb = self.conv2(xb)\n",
    "        \n",
    "        x = torch.concat((xa,xb),dim=1)\n",
    "        \n",
    "        x = self.conv4(x)\n",
    "        \n",
    "        return x"
   ]
  },
  {
   "cell_type": "code",
   "execution_count": 104,
   "metadata": {},
   "outputs": [],
   "source": [
    "class REPconv(nn.Module):\n",
    "    \n",
    "    def __init__(self,c):\n",
    "        \n",
    "        super().__init__()\n",
    "        \n",
    "        self.conv1 = nn.Sequential(nn.Conv2d(in_channels=c,out_channels=c,stride=1,kernel_size=1),nn.BatchNorm2d(num_features=c),nn.SiLU())\n",
    "        self.conv2 = conv(c,1)\n",
    "        self.bn = nn.BatchNorm2d(c)\n",
    "    \n",
    "    def forward(self,x):\n",
    "        \n",
    "        x1 = self.conv1(x)\n",
    "        x2 = self.conv2(x)\n",
    "        x3 = self.bn(x)\n",
    "        \n",
    "        if self.training:\n",
    "            x = torch.add(x1,x2)\n",
    "            x = torch.add(x,x3)\n",
    "            return x\n",
    "        else:\n",
    "            return x1"
   ]
  },
  {
   "cell_type": "code",
   "execution_count": 105,
   "metadata": {},
   "outputs": [],
   "source": [
    "class ELAN1(nn.Module):\n",
    "    \n",
    "    def __init__(self,c):\n",
    "        \n",
    "        super().__init__()\n",
    "        \n",
    "        self.convELEN1a = nn.Sequential(nn.Conv2d(in_channels=c,out_channels=c,stride=1,kernel_size=1),nn.BatchNorm2d(num_features=c),nn.SiLU())\n",
    "        self.convELEN1b = nn.Sequential(nn.Conv2d(in_channels=c,out_channels=c,stride=1,kernel_size=1),nn.BatchNorm2d(num_features=c),nn.SiLU())\n",
    "        self.convELEN1c = conv(c,1)\n",
    "        self.convELEN1d = conv(c,1)\n",
    "        self.convELEN1e = conv(c,1)\n",
    "        self.convELEN1f = conv(c,1)\n",
    "        self.convELEN1g = nn.Sequential(nn.Conv2d(in_channels=3*c,out_channels=c,stride=1,kernel_size=1),nn.BatchNorm2d(num_features=c),nn.SiLU())\n",
    "        \n",
    "    def forward(self,x):\n",
    "        \n",
    "        x1 = self.convELEN1a(x)\n",
    "        x2 = self.convELEN1b(x)\n",
    "        x3 = self.convELEN1c(x1)\n",
    "        x3 = self.convELEN1d(x3)\n",
    "        x4 = self.convELEN1e(x3)\n",
    "        x4 = self.convELEN1f(x4)\n",
    "        \n",
    "        x = torch.cat((x2,x3,x4),dim=1)\n",
    "        \n",
    "        x = self.convELEN1g(x)\n",
    "        \n",
    "        return x"
   ]
  },
  {
   "cell_type": "code",
   "execution_count": 106,
   "metadata": {},
   "outputs": [],
   "source": [
    "class ELAN2(nn.Module):\n",
    "    \n",
    "    def __init__(self,c):\n",
    "        \n",
    "        super().__init__()\n",
    "        \n",
    "        self.convELEN1a = nn.Sequential(nn.Conv2d(in_channels=c,out_channels=c,stride=1,kernel_size=1),nn.BatchNorm2d(num_features=c),nn.SiLU())\n",
    "        self.convELEN1b = nn.Sequential(nn.Conv2d(in_channels=c,out_channels=c,stride=1,kernel_size=1),nn.BatchNorm2d(num_features=c),nn.SiLU())\n",
    "        self.convELEN1c = conv(c,1)\n",
    "        self.convELEN1d = conv(c,1)\n",
    "        self.convELEN1e = conv(c,1)\n",
    "        self.convELEN1f = conv(c,1)\n",
    "        self.convELEN1g = nn.Sequential(nn.Conv2d(in_channels=5*c,out_channels=c,stride=1,kernel_size=1),nn.BatchNorm2d(num_features=c),nn.SiLU())\n",
    "        \n",
    "    def forward(self,x):\n",
    "        \n",
    "        x1 = self.convELEN1a(x)\n",
    "        x2 = self.convELEN1b(x)\n",
    "        x3 = self.convELEN1c(x1)\n",
    "        x4 = self.convELEN1d(x3)\n",
    "        x5 = self.convELEN1e(x4)\n",
    "        x6 = self.convELEN1f(x5)\n",
    "        \n",
    "        x = torch.concat((x2,x3,x4,x5,x6),dim=1)\n",
    "        \n",
    "        x = self.convELEN1g(x)\n",
    "        \n",
    "        return x"
   ]
  },
  {
   "cell_type": "code",
   "execution_count": 107,
   "metadata": {},
   "outputs": [],
   "source": [
    "class SPPCSPC(nn.Module):\n",
    "    \n",
    "    def __init__(self,c):\n",
    "        \n",
    "        super().__init__()\n",
    "        \n",
    "        self.conv1a = nn.Sequential(nn.Conv2d(in_channels=c,out_channels=c,stride=1,kernel_size=1),nn.BatchNorm2d(num_features=c),nn.SiLU())\n",
    "        self.conv2 = nn.Sequential(nn.Conv2d(in_channels=c,out_channels=c,stride=1,kernel_size=1),nn.BatchNorm2d(num_features=c),nn.SiLU())\n",
    "        self.conv1b = conv(c,1)\n",
    "        self.conv1c = nn.Sequential(nn.Conv2d(in_channels=c,out_channels=c,stride=1,kernel_size=1),nn.BatchNorm2d(num_features=c),nn.SiLU())\n",
    "        self.maxpool1a = nn.MaxPool2d(kernel_size=5,padding=2)\n",
    "        self.maxpool1b = nn.MaxPool2d(kernel_size=9,padding=4)\n",
    "        self.maxpool1c = nn.MaxPool2d(kernel_size=13,padding=6)\n",
    "        self.conv1d = nn.Sequential(nn.Conv2d(in_channels=4*c,out_channels=c,stride=1,kernel_size=1),nn.BatchNorm2d(num_features=c),nn.SiLU())\n",
    "        self.conv1e = conv(c,1)\n",
    "        self.conv1f = nn.Sequential(nn.Conv2d(in_channels=2*c,out_channels=c,stride=1,kernel_size=1),nn.BatchNorm2d(num_features=c),nn.SiLU())\n",
    "        \n",
    "    def forward(self,x):\n",
    "        \n",
    "        x1a = self.conv1a(x)\n",
    "        x2 = self.conv2(x)\n",
    "        \n",
    "        x1b = self.conv1b(x1a)\n",
    "        x1c = self.conv1c(x1b)\n",
    "        x1ma = self.maxpool1a(x1c)\n",
    "        sfa = (x1c.shape[2]/x1ma.shape[2])\n",
    "        x1ma = nn.UpsamplingBilinear2d(scale_factor=sfa)(x1ma)\n",
    "        x1mb = self.maxpool1b(x1c)\n",
    "        sfb = (x1c.shape[2]/x1mb.shape[2])\n",
    "        x1mb = nn.UpsamplingBilinear2d(scale_factor=sfb)(x1mb)\n",
    "        x1mc = self.maxpool1c(x1c)\n",
    "        sfc = (x1c.shape[2]/x1mc.shape[2])\n",
    "        x1mc = nn.UpsamplingBilinear2d(scale_factor=sfc)(x1mc)\n",
    "        x1c = torch.cat((x1c,x1ma,x1mb,x1mc),dim=1)\n",
    "        \n",
    "        x1d = self.conv1d(x1c)\n",
    "        x1e = self.conv1e(x1d)\n",
    "        x = torch.cat((x1e,x2),dim=1)\n",
    "        \n",
    "        x = self.conv1f(x)\n",
    "        \n",
    "        return x"
   ]
  },
  {
   "cell_type": "code",
   "execution_count": 108,
   "metadata": {},
   "outputs": [],
   "source": [
    "class Backbone(nn.Module):\n",
    "    \n",
    "    def __init__(self):\n",
    "        \n",
    "        super().__init__()\n",
    "        \n",
    "        self.conv1 = nn.Sequential(nn.Conv2d(in_channels=3,out_channels=32,stride=1,kernel_size=3,padding=1),nn.BatchNorm2d(num_features=32),nn.SiLU())\n",
    "        self.conv2 = conv(32,2)         #This will give output of 64 channels\n",
    "        self.conv3 = conv(64,1)\n",
    "        self.conv4 = conv(64,2)         #This will give output of 128 channels\n",
    "        self.ELAN1a = ELAN1(128)\n",
    "        self.MPconv1 = MPconv(128)      #This will give output of 256 channels\n",
    "        self.ELAN1b = ELAN1(256)\n",
    "        self.MPconv2 = MPconv(256)      #This will give output of 512 channels\n",
    "        self.ELAN1c = ELAN1(512)\n",
    "        self.MPconv3 = MPconv(512)      #This will give output of 1024 channels\n",
    "        self.ELAN1d = ELAN1(1024)\n",
    "        self.SPPCSPC = SPPCSPC(1024)\n",
    "        \n",
    "    def forward(self,x):\n",
    "        \n",
    "        x = self.conv1(x)\n",
    "        x = self.conv2(x)\n",
    "        x = self.conv3(x)\n",
    "        x = self.conv4(x)\n",
    "        x = self.ELAN1a(x)\n",
    "        x = self.MPconv1(x)\n",
    "        x1 = self.ELAN1b(x)\n",
    "        x2 = self.MPconv2(x1)\n",
    "        x2 = self.ELAN1c(x2)\n",
    "        x3 = self.MPconv3(x2)\n",
    "        x3 = self.ELAN1d(x3)\n",
    "        x3 = self.SPPCSPC(x3)\n",
    "        \n",
    "        return (x1,x2,x3)"
   ]
  },
  {
   "cell_type": "code",
   "execution_count": 109,
   "metadata": {},
   "outputs": [],
   "source": [
    "class head(nn.Module):\n",
    "    \n",
    "    def __init__(self,no_of_classes,img_size,ground_truth_boxes):\n",
    "        \n",
    "        super().__init__()\n",
    "        \n",
    "        self.backbone = Backbone()\n",
    "        self.conv1 = nn.Sequential(nn.Conv2d(in_channels=1024,out_channels=512,stride=1,kernel_size=1),nn.BatchNorm2d(num_features=512),nn.SiLU())\n",
    "        self.conv2 = nn.Sequential(nn.Conv2d(in_channels=512,out_channels=512,stride=1,kernel_size=1),nn.BatchNorm2d(num_features=512),nn.SiLU())\n",
    "        self.conv3 = nn.Sequential(nn.Conv2d(in_channels=256,out_channels=256,stride=1,kernel_size=1),nn.BatchNorm2d(num_features=256),nn.SiLU())\n",
    "        self.upsample1 = nn.UpsamplingBilinear2d(scale_factor=2)\n",
    "        self.convCat1 = nn.Sequential(nn.Conv2d(in_channels=1024,out_channels=512,stride=1,kernel_size=1),nn.BatchNorm2d(num_features=512),nn.SiLU())\n",
    "        self.ELAN2a = ELAN2(512)\n",
    "        self.conv4 = nn.Sequential(nn.Conv2d(in_channels=512,out_channels=256,stride=1,kernel_size=1),nn.BatchNorm2d(num_features=256),nn.SiLU())\n",
    "        self.upsample2 = nn.UpsamplingBilinear2d(scale_factor=2)\n",
    "        self.convCat2 = nn.Sequential(nn.Conv2d(in_channels=768,out_channels=256,stride=1,kernel_size=1),nn.BatchNorm2d(num_features=256),nn.SiLU())\n",
    "        \n",
    "        self.ELAN2b = ELAN2(256)\n",
    "        self.MPconv1 = MPconv(256) # The output for this is 512 channels\n",
    "        self.ELAN2c = ELAN2(512)\n",
    "        self.MPconv2 = MPconv(512) # The output for this is 1024 channels\n",
    "        self.ELAN2d = ELAN2(1024)\n",
    "        \n",
    "        self.conv5 = nn.Conv2d(in_channels=256,out_channels=(no_of_classes+5)*3,stride=1,kernel_size=1)\n",
    "        self.avgpool1 = nn.AvgPool2d((int(img_size/8),int(img_size/8)))\n",
    "        self.head1 = nn.Softmax(1)\n",
    "        \n",
    "        self.conv6 = nn.Conv2d(in_channels=512,out_channels=(no_of_classes+5)*3,stride=1,kernel_size=1)\n",
    "        self.avgpool2 = nn.AvgPool2d((int(img_size/16),int(img_size/16)))\n",
    "        self.head2 = nn.Softmax(1)\n",
    "        \n",
    "        self.conv7 = nn.Conv2d(in_channels=1024,out_channels=(no_of_classes+5)*3,stride=1,kernel_size=1)\n",
    "        self.avgpool3 = nn.AvgPool2d(kernel_size=(int(img_size/32),int(img_size/32)))\n",
    "        self.head3 = nn.Softmax(1)\n",
    "        \n",
    "        self.gtb = ground_truth_boxes\n",
    "        \n",
    "    def forward(self,x):\n",
    "        \n",
    "        y = self.backbone(x)\n",
    "        x1 = self.conv1(y[2])\n",
    "        x1 = self.upsample1(x1)\n",
    "        x1 = torch.cat((x1,y[1]),dim=1)\n",
    "        x1 = self.convCat1(x1)\n",
    "        x1 = self.ELAN2a(x1)\n",
    "        \n",
    "        x2 = self.conv2(x1)\n",
    "        x2 = self.upsample2(x2)\n",
    "        x2 = torch.cat((x2,y[0]),dim=1)\n",
    "        x2 = self.convCat2(x2)\n",
    "        x2 = self.ELAN2b(x2)\n",
    "        \n",
    "        head1 = self.conv5(x2)\n",
    "        if self.training:\n",
    "            anchors1,scores1 = iou_threshold(head1,self.gtb/8)\n",
    "        head1 = self.avgpool1(head1)\n",
    "        head1 = self.head1(head1)\n",
    "        \n",
    "        x3 = self.MPconv1(x2)\n",
    "        x3 = torch.cat((x1,x3),dim=1)\n",
    "        x3 = nn.Conv2d(in_channels=1024,out_channels=512,kernel_size=1)(x3)\n",
    "        x3 = self.ELAN2c(x3)\n",
    "        \n",
    "        head2 = self.conv6(x3)\n",
    "        if self.training:\n",
    "            anchors2,scores2 = iou_threshold(head2,self.gtb/16)\n",
    "        head2 = self.avgpool2(head2)\n",
    "        head2 = self.head2(head2)\n",
    "        \n",
    "        x4 = self.MPconv2(x3)\n",
    "        x4 = torch.cat((x4,y[2]),dim=1)\n",
    "        x4 = nn.Conv2d(in_channels=2048,out_channels=1024,kernel_size=1)(x4)\n",
    "        x4 = self.ELAN2d(x4)\n",
    "        \n",
    "        head3 = self.conv7(x4)\n",
    "        if self.training:\n",
    "            anchors3,scores3 = iou_threshold(head3,self.gtb/32)\n",
    "        head3 = self.avgpool3(head3)\n",
    "        head3 = self.head3(head3)\n",
    "        \n",
    "        if self.training:\n",
    "            return ((head1,(anchors1,scores1)), (head2,(anchors2,scores2)), (head3,(anchors3,scores3)))\n",
    "        else:\n",
    "            return (head1 ,head2, head3)"
   ]
  },
  {
   "cell_type": "code",
   "execution_count": 110,
   "metadata": {},
   "outputs": [],
   "source": [
    "import torch\n",
    "torch.cuda.empty_cache()"
   ]
  },
  {
   "cell_type": "code",
   "execution_count": 111,
   "metadata": {},
   "outputs": [
    {
     "data": {
      "text/plain": [
       "torch.Size([4, 5])"
      ]
     },
     "execution_count": 111,
     "metadata": {},
     "output_type": "execute_result"
    }
   ],
   "source": [
    "b = torch.rand((4,5))\n",
    "b.shape"
   ]
  },
  {
   "cell_type": "code",
   "execution_count": 116,
   "metadata": {},
   "outputs": [
    {
     "ename": "AttributeError",
     "evalue": "'tuple' object has no attribute 'shape'",
     "output_type": "error",
     "traceback": [
      "\u001b[1;31m---------------------------------------------------------------------------\u001b[0m",
      "\u001b[1;31mAttributeError\u001b[0m                            Traceback (most recent call last)",
      "Cell \u001b[1;32mIn[116], line 4\u001b[0m\n\u001b[0;32m      2\u001b[0m b \u001b[39m=\u001b[39m torch\u001b[39m.\u001b[39mtensor([[\u001b[39m54\u001b[39m,\u001b[39m54\u001b[39m,\u001b[39m40\u001b[39m,\u001b[39m40\u001b[39m]])\n\u001b[0;32m      3\u001b[0m model \u001b[39m=\u001b[39m head(\u001b[39m20\u001b[39m,\u001b[39m640\u001b[39m,b)(a)\n\u001b[1;32m----> 4\u001b[0m model\u001b[39m.\u001b[39;49mshape\n",
      "\u001b[1;31mAttributeError\u001b[0m: 'tuple' object has no attribute 'shape'"
     ]
    }
   ],
   "source": [
    "a = torch.rand((4,3,640,640))\n",
    "b = torch.tensor([[54,54,40,40]])\n",
    "model = head(20,640,b)(a)\n",
    "model.shape"
   ]
  },
  {
   "cell_type": "code",
   "execution_count": 117,
   "metadata": {},
   "outputs": [
    {
     "data": {
      "text/plain": [
       "torch.Size([4, 75, 1, 1])"
      ]
     },
     "execution_count": 117,
     "metadata": {},
     "output_type": "execute_result"
    }
   ],
   "source": [
    "model[2][0].shape"
   ]
  },
  {
   "cell_type": "code",
   "execution_count": 120,
   "metadata": {},
   "outputs": [
    {
     "data": {
      "text/plain": [
       "([], [])"
      ]
     },
     "execution_count": 120,
     "metadata": {},
     "output_type": "execute_result"
    }
   ],
   "source": [
    "model[2][1]"
   ]
  }
 ],
 "metadata": {
  "kernelspec": {
   "display_name": "Python 3",
   "language": "python",
   "name": "python3"
  },
  "language_info": {
   "codemirror_mode": {
    "name": "ipython",
    "version": 3
   },
   "file_extension": ".py",
   "mimetype": "text/x-python",
   "name": "python",
   "nbconvert_exporter": "python",
   "pygments_lexer": "ipython3",
   "version": "3.9.11"
  },
  "orig_nbformat": 4
 },
 "nbformat": 4,
 "nbformat_minor": 2
}
